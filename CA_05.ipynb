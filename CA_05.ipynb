{
  "nbformat": 4,
  "nbformat_minor": 0,
  "metadata": {
    "colab": {
      "name": "CA 05.ipynb",
      "provenance": [],
      "collapsed_sections": []
    },
    "kernelspec": {
      "name": "python3",
      "display_name": "Python 3"
    },
    "language_info": {
      "name": "python"
    }
  },
  "cells": [
    {
      "cell_type": "code",
      "metadata": {
        "id": "Bk4uT4tGdlJE"
      },
      "source": [
        "import pandas as pd\n",
        "import numpy as np\n",
        "from sklearn import linear_model\n",
        "from sklearn.metrics import classification_report, confusion_matrix\n",
        "from sklearn.model_selection import train_test_split\n",
        "from sklearn import metrics\n",
        "import matplotlib.pyplot as plt\n",
        "import seaborn as sns\n",
        "%matplotlib inline"
      ],
      "execution_count": null,
      "outputs": []
    },
    {
      "cell_type": "code",
      "metadata": {
        "colab": {
          "base_uri": "https://localhost:8080/",
          "height": 204
        },
        "id": "4kSGBCgbdZSn",
        "outputId": "c66c1229-c74a-49b9-a01b-d3c6cbd852bf"
      },
      "source": [
        "path = 'https://github.com/ArinB/CA05-B-Logistic-Regression/raw/master/cvd_data.csv'\n",
        "\n",
        "df = pd.read_csv(path) \n",
        "df.head()"
      ],
      "execution_count": null,
      "outputs": [
        {
          "output_type": "execute_result",
          "data": {
            "text/html": [
              "<div>\n",
              "<style scoped>\n",
              "    .dataframe tbody tr th:only-of-type {\n",
              "        vertical-align: middle;\n",
              "    }\n",
              "\n",
              "    .dataframe tbody tr th {\n",
              "        vertical-align: top;\n",
              "    }\n",
              "\n",
              "    .dataframe thead th {\n",
              "        text-align: right;\n",
              "    }\n",
              "</style>\n",
              "<table border=\"1\" class=\"dataframe\">\n",
              "  <thead>\n",
              "    <tr style=\"text-align: right;\">\n",
              "      <th></th>\n",
              "      <th>cvd_4types</th>\n",
              "      <th>age_s1</th>\n",
              "      <th>race</th>\n",
              "      <th>educat</th>\n",
              "      <th>mstat</th>\n",
              "      <th>hip</th>\n",
              "      <th>neck20</th>\n",
              "      <th>waist</th>\n",
              "      <th>av_weight_kg</th>\n",
              "      <th>cgpkyr</th>\n",
              "      <th>tea15</th>\n",
              "      <th>srhype</th>\n",
              "      <th>parrptdiab</th>\n",
              "      <th>bend25</th>\n",
              "      <th>happy25</th>\n",
              "      <th>tired25</th>\n",
              "      <th>hlthlm25</th>\n",
              "    </tr>\n",
              "  </thead>\n",
              "  <tbody>\n",
              "    <tr>\n",
              "      <th>0</th>\n",
              "      <td>0</td>\n",
              "      <td>54</td>\n",
              "      <td>1</td>\n",
              "      <td>2</td>\n",
              "      <td>1</td>\n",
              "      <td>110.0</td>\n",
              "      <td>40.0</td>\n",
              "      <td>108.0</td>\n",
              "      <td>87.5</td>\n",
              "      <td>34.0</td>\n",
              "      <td>0</td>\n",
              "      <td>1</td>\n",
              "      <td>0</td>\n",
              "      <td>1</td>\n",
              "      <td>2</td>\n",
              "      <td>3</td>\n",
              "      <td>4</td>\n",
              "    </tr>\n",
              "    <tr>\n",
              "      <th>1</th>\n",
              "      <td>0</td>\n",
              "      <td>56</td>\n",
              "      <td>3</td>\n",
              "      <td>2</td>\n",
              "      <td>1</td>\n",
              "      <td>113.0</td>\n",
              "      <td>34.0</td>\n",
              "      <td>107.0</td>\n",
              "      <td>83.5</td>\n",
              "      <td>0.0</td>\n",
              "      <td>0</td>\n",
              "      <td>0</td>\n",
              "      <td>0</td>\n",
              "      <td>2</td>\n",
              "      <td>2</td>\n",
              "      <td>1</td>\n",
              "      <td>3</td>\n",
              "    </tr>\n",
              "    <tr>\n",
              "      <th>2</th>\n",
              "      <td>0</td>\n",
              "      <td>54</td>\n",
              "      <td>1</td>\n",
              "      <td>3</td>\n",
              "      <td>1</td>\n",
              "      <td>110.0</td>\n",
              "      <td>44.5</td>\n",
              "      <td>105.0</td>\n",
              "      <td>86.2</td>\n",
              "      <td>49.5</td>\n",
              "      <td>0</td>\n",
              "      <td>0</td>\n",
              "      <td>0</td>\n",
              "      <td>3</td>\n",
              "      <td>2</td>\n",
              "      <td>6</td>\n",
              "      <td>4</td>\n",
              "    </tr>\n",
              "    <tr>\n",
              "      <th>3</th>\n",
              "      <td>0</td>\n",
              "      <td>54</td>\n",
              "      <td>1</td>\n",
              "      <td>3</td>\n",
              "      <td>1</td>\n",
              "      <td>129.0</td>\n",
              "      <td>42.5</td>\n",
              "      <td>110.0</td>\n",
              "      <td>89.1</td>\n",
              "      <td>0.0</td>\n",
              "      <td>0</td>\n",
              "      <td>0</td>\n",
              "      <td>0</td>\n",
              "      <td>3</td>\n",
              "      <td>2</td>\n",
              "      <td>1</td>\n",
              "      <td>3</td>\n",
              "    </tr>\n",
              "    <tr>\n",
              "      <th>4</th>\n",
              "      <td>0</td>\n",
              "      <td>51</td>\n",
              "      <td>3</td>\n",
              "      <td>2</td>\n",
              "      <td>1</td>\n",
              "      <td>122.0</td>\n",
              "      <td>37.0</td>\n",
              "      <td>113.0</td>\n",
              "      <td>81.3</td>\n",
              "      <td>0.0</td>\n",
              "      <td>0</td>\n",
              "      <td>0</td>\n",
              "      <td>0</td>\n",
              "      <td>2</td>\n",
              "      <td>1</td>\n",
              "      <td>1</td>\n",
              "      <td>2</td>\n",
              "    </tr>\n",
              "  </tbody>\n",
              "</table>\n",
              "</div>"
            ],
            "text/plain": [
              "   cvd_4types  age_s1  race  educat  ...  bend25  happy25  tired25  hlthlm25\n",
              "0           0      54     1       2  ...       1        2        3         4\n",
              "1           0      56     3       2  ...       2        2        1         3\n",
              "2           0      54     1       3  ...       3        2        6         4\n",
              "3           0      54     1       3  ...       3        2        1         3\n",
              "4           0      51     3       2  ...       2        1        1         2\n",
              "\n",
              "[5 rows x 17 columns]"
            ]
          },
          "metadata": {
            "tags": []
          },
          "execution_count": 2
        }
      ]
    },
    {
      "cell_type": "markdown",
      "metadata": {
        "id": "1_T6weCUd1MP"
      },
      "source": [
        "# **Part 1**\n",
        "\n",
        "build a binary classifier model to predict the CVD Risk (Yes/No, or 1/0) using a Logistic Regression Model with the best performance possible(deliverable: Notebook)"
      ]
    },
    {
      "cell_type": "code",
      "metadata": {
        "colab": {
          "base_uri": "https://localhost:8080/"
        },
        "id": "ZW6PGbKspU1L",
        "outputId": "69865dd7-5f47-446d-b680-b96bb17dc636"
      },
      "source": [
        "X = df.iloc[:, 1:17]\n",
        "y = df.cvd_4types\n",
        "model = linear_model.LogisticRegression(C=1e40, solver='newton-cg')\n",
        "\n",
        "fitted_model = model.fit(X,y)\n",
        "\n",
        "prediction_result = model.predict(X)\n",
        "prediction_result"
      ],
      "execution_count": null,
      "outputs": [
        {
          "output_type": "execute_result",
          "data": {
            "text/plain": [
              "array([1, 0, 1, ..., 1, 1, 1])"
            ]
          },
          "metadata": {
            "tags": []
          },
          "execution_count": 3
        }
      ]
    },
    {
      "cell_type": "markdown",
      "metadata": {
        "id": "039C0rueeB3G"
      },
      "source": [
        "# **Part 2**\n",
        "\n",
        "Display the Feature Importance of all the features sorted in the order of decreasing influenceon the CVD Risk"
      ]
    },
    {
      "cell_type": "code",
      "metadata": {
        "colab": {
          "base_uri": "https://localhost:8080/"
        },
        "id": "iymJs394qdTr",
        "outputId": "41bbd37d-2174-4d00-e4a1-3f571553747e"
      },
      "source": [
        "model.fit(X/np.std(X,0), y)\n",
        "\n",
        "importance = model.coef_[0]\n",
        "importance\n",
        "list = []\n",
        "cols = df.columns.values.tolist()\n",
        "cols\n",
        "  \n",
        "for i,v in enumerate(importance):\n",
        "  list.append([abs(v), v ,cols[i]])\n",
        "\n",
        "list.sort(reverse=True)\n",
        "list\n",
        "\n",
        "#for i,v in enumerate(importance):\n",
        "\t#print('Feature: %0d, Score: %.5f' % (i,v))\n",
        " \n",
        "#plt.bar([x for x in range(len(importance))], importance)\n",
        "#plt.show()"
      ],
      "execution_count": null,
      "outputs": [
        {
          "output_type": "execute_result",
          "data": {
            "text/plain": [
              "[[1.136628082842035, 1.136628082842035, 'neck20'],\n",
              " [0.6095597302691247, -0.6095597302691247, 'mstat'],\n",
              " [0.37238664670276167, -0.37238664670276167, 'age_s1'],\n",
              " [0.3632416602579164, -0.3632416602579164, 'tired25'],\n",
              " [0.23556750516547292, -0.23556750516547292, 'waist'],\n",
              " [0.1855041259129585, -0.1855041259129585, 'hip'],\n",
              " [0.18301473217587705, 0.18301473217587705, 'race'],\n",
              " [0.15985758084779697, 0.15985758084779697, 'srhype'],\n",
              " [0.13711315877694763, -0.13711315877694763, 'educat'],\n",
              " [0.11777552689847041, 0.11777552689847041, 'happy25'],\n",
              " [0.08840474197875306, 0.08840474197875306, 'parrptdiab'],\n",
              " [0.08351447364003962, -0.08351447364003962, 'bend25'],\n",
              " [0.07287443927358772, 0.07287443927358772, 'tea15'],\n",
              " [0.06671029664782227, -0.06671029664782227, 'cgpkyr'],\n",
              " [0.007290488157660646, 0.007290488157660646, 'cvd_4types'],\n",
              " [0.000385735530892497, 0.000385735530892497, 'av_weight_kg']]"
            ]
          },
          "metadata": {
            "tags": []
          },
          "execution_count": 4
        }
      ]
    },
    {
      "cell_type": "markdown",
      "metadata": {
        "id": "F1VLJN8UeG_Y"
      },
      "source": [
        "# **Part 3**\n",
        "\n",
        "Evaluate the performance of your model(including ROC Curve), explain the performanceand draw a meaningful conclusion"
      ]
    },
    {
      "cell_type": "code",
      "metadata": {
        "colab": {
          "base_uri": "https://localhost:8080/",
          "height": 265
        },
        "id": "xi8-1l0bp-Nw",
        "outputId": "97b5c61c-c5a3-4d60-aeab-cd874d0db813"
      },
      "source": [
        "y_pred_proba = model.predict_proba(X)[::,1]\n",
        "fpr, tpr, thresholds = metrics.roc_curve(y,  y_pred_proba)\n",
        "auc = metrics.roc_auc_score(y, y_pred_proba)\n",
        "plt.plot(fpr,tpr,label=\"data 1, auc=\"+str(auc))\n",
        "plt.legend(loc=4)\n",
        "plt.show()"
      ],
      "execution_count": null,
      "outputs": [
        {
          "output_type": "display_data",
          "data": {
            "image/png": "[encoded data removed]",
            "text/plain": [
              "<Figure size 432x288 with 1 Axes>"
            ]
          },
          "metadata": {
            "tags": [],
            "needs_background": "light"
          }
        }
      ]
    },
    {
      "cell_type": "markdown",
      "metadata": {
        "id": "uBZJqKKnw_3u"
      },
      "source": [
        "AUC = 0.661\n",
        "\n",
        "This is not great, as it shows that the true positive rate is only slightly higher than the false positive rate. We don't want the true positive rate to be close to equal to the false positive rate, as this implies poor accuracy of our model. Because the AUC is fairly low, we can see that our model is not a very good fit for our data. "
      ]
    }
  ]
}